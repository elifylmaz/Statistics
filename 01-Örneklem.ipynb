{
 "cells": [
  {
   "cell_type": "code",
   "execution_count": 3,
   "id": "7b18867e-1b21-451d-a8f4-775a28df34d6",
   "metadata": {},
   "outputs": [],
   "source": [
    "import numpy as np"
   ]
  },
  {
   "cell_type": "code",
   "execution_count": 5,
   "id": "d1ede267-c30e-4e0a-bf51-25375f1214cb",
   "metadata": {},
   "outputs": [],
   "source": [
    "populasyon = np.random.randint(0,80,1000)"
   ]
  },
  {
   "cell_type": "code",
   "execution_count": 7,
   "id": "1d729b98-ef4d-417d-aefa-b4c9c72e5ae2",
   "metadata": {},
   "outputs": [
    {
     "data": {
      "text/plain": [
       "array([72, 47, 26,  6, 74, 14, 46, 39, 14, 49, 43, 23,  9, 73, 64, 20, 45,\n",
       "       28, 50, 71, 44,  4,  1, 24, 26,  4,  1, 16, 19, 37, 69, 41,  7, 53,\n",
       "       52, 48, 62, 44, 26, 55, 40, 17, 61, 29, 54, 28, 23, 64, 77,  2, 39,\n",
       "       36, 27, 47, 11, 47, 57, 52, 74, 34, 35, 18, 25,  0, 44,  0, 34, 32,\n",
       "       26, 33, 66, 46, 16, 24,  9, 44, 74, 17, 64, 15, 38, 75, 13, 62, 15,\n",
       "       52, 15, 57, 35, 28, 72, 59, 28,  3, 76, 26, 15, 59, 41, 76, 52, 63,\n",
       "       17, 59, 20, 68, 19, 70,  7, 28, 69,  2, 22, 25, 59, 67, 42, 14, 43,\n",
       "       70, 51, 27, 11, 34, 49, 43, 76,  3, 56,  9, 62, 37, 33, 56, 27, 10,\n",
       "       74, 70, 59, 57, 21, 67, 56, 27,  7, 78, 37, 17, 50, 37, 68, 63, 36,\n",
       "       56, 34, 58, 57,  7, 49, 55, 38, 58, 26, 19, 33, 54, 33,  8, 41, 10,\n",
       "       56, 53, 72,  7,  4,  0, 20, 49, 33, 63, 77, 70, 74, 63, 67,  4, 31,\n",
       "       46, 78, 26, 56, 51, 37, 16, 53, 42, 12, 67, 51, 40, 11, 73, 68, 17,\n",
       "       73, 62, 73,  4, 57, 32, 73, 24, 63, 46, 37, 42, 64, 55, 17,  8, 43,\n",
       "       73, 13, 76, 46, 66, 10, 28, 19, 59, 77,  6, 16,  7, 55, 14, 13, 65,\n",
       "       49, 12,  4,  9,  1, 51, 67, 34, 53, 11, 62, 37, 27,  8, 55, 50, 20,\n",
       "       39, 28, 71, 32, 59, 12, 19, 15, 42, 43,  2,  8, 15,  2, 17, 53, 28,\n",
       "       12, 74, 27, 16, 26,  9, 13, 20, 10, 27, 46, 45, 70, 75, 67, 25, 74,\n",
       "       29, 67, 64, 49, 17, 18, 77, 60, 58,  0, 42, 29, 40, 56, 56, 48, 32,\n",
       "       50, 19, 26, 31, 55, 36, 16, 31, 25, 34, 74, 48, 40, 41, 59, 26, 57,\n",
       "       63, 39, 78, 38, 49, 64, 29, 26, 49, 64,  9,  5, 15, 27, 32,  5, 66,\n",
       "       71, 39, 74, 25, 11, 17, 40, 63, 72, 44,  9, 16, 73, 37, 35,  4, 44,\n",
       "       32, 53,  2, 78, 75, 70, 37, 13, 61, 62, 30, 15, 30, 44, 50, 50, 44,\n",
       "        5, 56, 50,  3, 37,  8, 63, 72, 48, 42, 42, 57, 14, 71, 45, 16, 42,\n",
       "       39,  8, 42, 25, 74, 44,  3, 14, 62, 51, 21, 47, 50, 19, 67,  9,  8,\n",
       "        5, 61,  4, 65, 24, 16, 27, 16, 45, 35, 40, 70, 45, 53, 63, 74,  3,\n",
       "       27, 34, 56, 34, 61, 61,  9, 67, 50, 42, 67, 72, 39, 63, 57, 30, 41,\n",
       "       47, 65, 15, 64,  9, 12, 29, 27, 16, 44, 39, 35, 72, 38, 51, 55, 62,\n",
       "       54, 42, 72, 76, 67,  5, 33, 73, 54, 13, 72, 64, 49, 31, 27, 71, 66,\n",
       "       45, 16,  3, 55, 22,  8, 41, 78, 59, 26, 21, 42, 24, 31, 56, 67, 75,\n",
       "       77, 77, 59, 47, 20, 72, 37,  6,  3, 58, 55, 43, 27, 17, 68, 69,  7,\n",
       "       59, 53, 61, 66, 33, 46, 55, 71, 51, 74, 27, 74, 59,  9, 69,  0,  5,\n",
       "       35, 42,  3, 55, 62, 78, 33, 69, 70, 58, 78, 15,  2, 39, 68,  2,  7,\n",
       "        0,  8, 53, 16, 55, 76, 38,  9, 56,  8, 41, 28, 45, 56, 68, 29, 12,\n",
       "       14, 49, 42, 74,  8, 55, 23, 27, 71, 19, 66, 14, 16, 66,  2, 52, 45,\n",
       "       62, 15, 31, 24, 41, 40, 79, 57, 18,  1, 31, 16, 62, 79, 40, 43, 64,\n",
       "       36,  4, 36, 18, 55, 30,  7, 43, 47,  2, 74, 55,  1, 19, 54, 14, 17,\n",
       "       22, 65, 43,  0, 39,  3, 29, 13,  0, 72, 61, 27, 73, 54, 47, 60, 34,\n",
       "       46, 24, 47, 57, 25, 21, 21, 45, 17, 29,  5,  0, 78,  7, 36, 55, 51,\n",
       "        8, 33, 15,  8,  1, 56,  5, 73, 42,  7, 36, 18, 36, 74, 63, 13, 43,\n",
       "       34, 40,  6, 21, 37, 71, 42, 18, 31,  9, 77,  2, 12, 69,  6,  8, 60,\n",
       "       13, 63, 61, 67,  6, 65,  5, 55, 20, 54, 31, 70, 65, 42,  7, 21, 66,\n",
       "       10,  3, 44, 67, 24, 75, 16, 19, 58, 62, 77, 44, 33, 12, 20, 71, 66,\n",
       "       16, 73, 47, 10, 14, 29, 48, 35, 13, 10, 66, 22, 37, 42, 35, 56, 22,\n",
       "       51, 16, 41, 77, 37,  0, 22, 77, 61, 58, 46, 52, 38, 36, 50, 49, 51,\n",
       "       79, 26, 48,  5, 29, 54, 29, 10, 31, 25, 53, 68, 16, 67, 31, 47, 43,\n",
       "       44, 73, 52, 67, 25, 41, 42, 40, 12, 31, 43,  7, 33, 34, 16, 49, 17,\n",
       "       11, 19, 12, 26, 49,  2,  2, 42, 66, 67, 58, 21,  0, 75, 67, 33, 55,\n",
       "       11, 51, 67, 56, 54,  4, 79, 36,  8, 74, 57, 30, 11, 52, 17, 28, 68,\n",
       "       12, 77,  4, 44, 77,  8, 20, 68, 72, 32, 58, 24,  6,  3,  9, 55, 69,\n",
       "       64, 52, 38, 38, 22, 40,  7, 53, 14, 58,  1, 12, 70, 46, 72, 16, 19,\n",
       "        1, 78, 18, 15, 32, 61, 70, 57, 37,  5, 67,  3, 15, 61, 33, 31, 28,\n",
       "       62, 60, 31,  5, 64, 57, 64, 48,  9, 25, 30, 42, 34,  0, 26, 28,  1,\n",
       "       50, 72,  5, 30, 10, 63, 74, 78,  7, 77, 51, 65, 31, 66, 49,  5, 13,\n",
       "       79, 49, 30,  9, 38, 77, 66, 35, 57,  7, 21, 39, 42, 70, 52, 14, 36,\n",
       "       47, 51,  0, 24, 66, 51, 68, 21,  9, 54, 28, 24, 12,  5, 66,  3, 65,\n",
       "       69, 54,  5, 35, 26,  9, 47, 69, 38, 39, 43, 40, 12, 69, 65, 60, 53,\n",
       "       31, 42, 73, 49, 58, 72, 48, 78, 78, 61, 16, 36, 71, 39,  6, 63, 51,\n",
       "       32, 35,  1, 17, 75, 27, 21, 63, 24, 14, 78, 22, 52, 73, 76, 69, 45,\n",
       "       29, 28, 47, 61,  9, 46,  9, 32, 63, 57,  5, 57, 67, 50])"
      ]
     },
     "execution_count": 7,
     "metadata": {},
     "output_type": "execute_result"
    }
   ],
   "source": [
    "populasyon"
   ]
  },
  {
   "cell_type": "code",
   "execution_count": 17,
   "id": "3ba0f4ff-6447-443a-b1cd-e1024e45f3ca",
   "metadata": {},
   "outputs": [
    {
     "data": {
      "text/plain": [
       "array([72, 47, 26,  6, 74, 14, 46, 39, 14, 49])"
      ]
     },
     "execution_count": 17,
     "metadata": {},
     "output_type": "execute_result"
    }
   ],
   "source": [
    "#gözlem için\n",
    "populasyon[0:10]"
   ]
  },
  {
   "cell_type": "code",
   "execution_count": 11,
   "id": "83739b46-b4a1-4ebf-8422-3c5effdf11e9",
   "metadata": {},
   "outputs": [],
   "source": [
    "#örneklem çekimi \n",
    "np.random.seed(10)\n",
    "# seed = aynı yapıya göre örnek çekmesi için \n",
    "orneklem = np.random.choice(a=populasyon, size =100)"
   ]
  },
  {
   "cell_type": "code",
   "execution_count": 13,
   "id": "fa9e9ff0-fca7-4f0e-a710-18c65fe7e8db",
   "metadata": {},
   "outputs": [
    {
     "data": {
      "text/plain": [
       "array([ 2, 43,  5, 35, 59, 30, 34, 57, 45, 41, 47, 21, 26, 14, 24, 28, 56,\n",
       "       40, 58, 45, 50, 42, 44, 12, 74, 11, 11, 37, 11, 66,  8, 11, 60, 27,\n",
       "       54, 70, 11, 17, 35, 73, 10, 61, 48, 73, 67, 74, 55, 18, 28,  5, 26,\n",
       "        7, 32,  4, 45, 55,  3, 17,  9, 51, 55, 16, 74, 71,  9, 64, 42, 20,\n",
       "       55,  5, 24, 46, 11, 74, 18, 61, 10, 73, 67, 67, 13, 31, 33, 31, 54,\n",
       "       51, 74, 46, 11, 70,  4, 13, 74, 67, 78, 19, 72, 70,  7, 27])"
      ]
     },
     "execution_count": 13,
     "metadata": {},
     "output_type": "execute_result"
    }
   ],
   "source": [
    "orneklem"
   ]
  },
  {
   "cell_type": "code",
   "execution_count": 19,
   "id": "ba1d42d7-74c8-47fb-b293-47c53d907e53",
   "metadata": {},
   "outputs": [
    {
     "data": {
      "text/plain": [
       "array([ 2, 43,  5, 35, 59, 30, 34, 57, 45, 41])"
      ]
     },
     "execution_count": 19,
     "metadata": {},
     "output_type": "execute_result"
    }
   ],
   "source": [
    "orneklem[0:10]"
   ]
  },
  {
   "cell_type": "code",
   "execution_count": 21,
   "id": "07aea62b-7794-4cd2-9f56-3929f5de8401",
   "metadata": {},
   "outputs": [
    {
     "data": {
      "text/plain": [
       "38.29"
      ]
     },
     "execution_count": 21,
     "metadata": {},
     "output_type": "execute_result"
    }
   ],
   "source": [
    "orneklem.mean()"
   ]
  },
  {
   "cell_type": "code",
   "execution_count": 25,
   "id": "d3bdadeb-bc7b-4ee4-891f-168af4567d4a",
   "metadata": {},
   "outputs": [
    {
     "data": {
      "text/plain": [
       "39.34"
      ]
     },
     "execution_count": 25,
     "metadata": {},
     "output_type": "execute_result"
    }
   ],
   "source": [
    "populasyon.mean()"
   ]
  },
  {
   "cell_type": "markdown",
   "id": "12f4b239-c5fd-4de3-be72-458eb9431536",
   "metadata": {},
   "source": [
    "##### işte sonuç çok yakın daha küçük bir veriseti ile aynı değere yaklaşabiliyoruz\n"
   ]
  },
  {
   "cell_type": "markdown",
   "id": "3322559d-f2f5-4f14-9c8b-32cda32daa4e",
   "metadata": {},
   "source": [
    "### Örneklem Dağılımı"
   ]
  },
  {
   "cell_type": "code",
   "execution_count": 31,
   "id": "37a3676e-d9a5-4a47-b78a-1b005ca5514d",
   "metadata": {},
   "outputs": [],
   "source": [
    "orneklem1 = np.random.choice(a=populasyon, size =100)\n",
    "orneklem2 = np.random.choice(a=populasyon, size =100)\n",
    "orneklem3 = np.random.choice(a=populasyon, size =100)\n",
    "orneklem4 = np.random.choice(a=populasyon, size =100)\n",
    "orneklem5 = np.random.choice(a=populasyon, size =100)\n",
    "orneklem6 = np.random.choice(a=populasyon, size =100)\n",
    "orneklem7 = np.random.choice(a=populasyon, size =100)\n",
    "orneklem8 = np.random.choice(a=populasyon, size =100)\n",
    "orneklem9 = np.random.choice(a=populasyon, size =100)\n",
    "orneklem10 = np.random.choice(a=populasyon, size =100)"
   ]
  },
  {
   "cell_type": "code",
   "execution_count": 37,
   "id": "f98ff1f6-a768-478d-ab65-00d5b08f63e9",
   "metadata": {},
   "outputs": [
    {
     "data": {
      "text/plain": [
       "39.291999999999994"
      ]
     },
     "execution_count": 37,
     "metadata": {},
     "output_type": "execute_result"
    }
   ],
   "source": [
    "(orneklem1.mean() + orneklem2.mean() + orneklem3.mean() + orneklem4.mean() + orneklem5.mean() + orneklem6.mean() + orneklem7.mean() + orneklem8.mean() + orneklem9.mean() + orneklem10.mean()) / 10"
   ]
  },
  {
   "cell_type": "markdown",
   "id": "82713f84-9a60-49cb-83bd-e440ef03a9c9",
   "metadata": {},
   "source": [
    "##### daha fazla örnek ile kitleye daha yakın bir sonuç alabiliyoruz"
   ]
  },
  {
   "cell_type": "code",
   "execution_count": null,
   "id": "f91c70cd-9936-4bb0-bded-d5645677c94a",
   "metadata": {},
   "outputs": [],
   "source": []
  }
 ],
 "metadata": {
  "kernelspec": {
   "display_name": "Python 3 (ipykernel)",
   "language": "python",
   "name": "python3"
  },
  "language_info": {
   "codemirror_mode": {
    "name": "ipython",
    "version": 3
   },
   "file_extension": ".py",
   "mimetype": "text/x-python",
   "name": "python",
   "nbconvert_exporter": "python",
   "pygments_lexer": "ipython3",
   "version": "3.11.7"
  }
 },
 "nbformat": 4,
 "nbformat_minor": 5
}
