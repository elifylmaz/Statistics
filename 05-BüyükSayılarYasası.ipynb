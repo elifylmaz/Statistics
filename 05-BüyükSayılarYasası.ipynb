{
 "cells": [
  {
   "cell_type": "code",
   "execution_count": 2,
   "id": "19f34602-1044-4bfa-9529-3161c3f74667",
   "metadata": {},
   "outputs": [
    {
     "name": "stdout",
     "output_type": "stream",
     "text": [
      "10 deneme sonrası yazı gelme oranı: 0.3000\n",
      "100 deneme sonrası yazı gelme oranı: 0.5200\n",
      "1000 deneme sonrası yazı gelme oranı: 0.4970\n",
      "10000 deneme sonrası yazı gelme oranı: 0.5033\n",
      "100000 deneme sonrası yazı gelme oranı: 0.5006\n"
     ]
    }
   ],
   "source": [
    "import random\n",
    "\n",
    "# Belirli sayıda yazı tura atışı yapalım\n",
    "def yazı_tura_atışları(n):\n",
    "    yazi_sayisi = 0\n",
    "    for _ in range(n):\n",
    "        if random.choice(['yazı', 'tura']) == 'yazı':\n",
    "            yazi_sayisi += 1\n",
    "    return yazi_sayisi / n  # Yazı gelme oranı\n",
    "\n",
    "# Farklı sayılarda deneyler yapalım\n",
    "deneme_sayilari = [10, 100, 1000, 10000, 100000]\n",
    "sonuclar = {deneme: yazı_tura_atışları(deneme) for deneme in deneme_sayilari}\n",
    "\n",
    "# Sonuçları yazdıralım\n",
    "for deneme, oran in sonuclar.items():\n",
    "    print(f\"{deneme} deneme sonrası yazı gelme oranı: {oran:.4f}\")\n"
   ]
  },
  {
   "cell_type": "code",
   "execution_count": null,
   "id": "0e6b2d19-6fa2-4e9d-9c04-f00ebf9c06fe",
   "metadata": {},
   "outputs": [],
   "source": []
  }
 ],
 "metadata": {
  "kernelspec": {
   "display_name": "Python 3 (ipykernel)",
   "language": "python",
   "name": "python3"
  },
  "language_info": {
   "codemirror_mode": {
    "name": "ipython",
    "version": 3
   },
   "file_extension": ".py",
   "mimetype": "text/x-python",
   "name": "python",
   "nbconvert_exporter": "python",
   "pygments_lexer": "ipython3",
   "version": "3.11.7"
  }
 },
 "nbformat": 4,
 "nbformat_minor": 5
}
