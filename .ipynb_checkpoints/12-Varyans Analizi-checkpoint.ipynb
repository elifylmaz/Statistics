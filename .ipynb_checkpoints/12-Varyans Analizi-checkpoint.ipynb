{
 "cells": [
  {
   "cell_type": "markdown",
   "id": "648af381-2fab-4cd1-bb1f-36d6b5d961ae",
   "metadata": {},
   "source": [
    "# Varyans Analizi "
   ]
  },
  {
   "cell_type": "markdown",
   "id": "c36c1747-4f10-44cb-a8d5-53a609cdcadd",
   "metadata": {},
   "source": [
    "### Hipotezler\n",
    "- $ H_0: \\mu_1 = \\mu_2 = \\mu_3  $\n",
    "- $ H_1: Eşit Değillerdir.$ "
   ]
  },
  {
   "cell_type": "code",
   "execution_count": 11,
   "id": "4e41c045-1af5-478f-9d4f-c01e5a9e703a",
   "metadata": {},
   "outputs": [
    {
     "data": {
      "text/html": [
       "<div>\n",
       "<style scoped>\n",
       "    .dataframe tbody tr th:only-of-type {\n",
       "        vertical-align: middle;\n",
       "    }\n",
       "\n",
       "    .dataframe tbody tr th {\n",
       "        vertical-align: top;\n",
       "    }\n",
       "\n",
       "    .dataframe thead th {\n",
       "        text-align: right;\n",
       "    }\n",
       "</style>\n",
       "<table border=\"1\" class=\"dataframe\">\n",
       "  <thead>\n",
       "    <tr style=\"text-align: right;\">\n",
       "      <th></th>\n",
       "      <th>GRUP_A</th>\n",
       "      <th>GRUP_B</th>\n",
       "      <th>GRUP_C</th>\n",
       "    </tr>\n",
       "  </thead>\n",
       "  <tbody>\n",
       "    <tr>\n",
       "      <th>0</th>\n",
       "      <td>28</td>\n",
       "      <td>31</td>\n",
       "      <td>40</td>\n",
       "    </tr>\n",
       "    <tr>\n",
       "      <th>1</th>\n",
       "      <td>33</td>\n",
       "      <td>32</td>\n",
       "      <td>33</td>\n",
       "    </tr>\n",
       "    <tr>\n",
       "      <th>2</th>\n",
       "      <td>30</td>\n",
       "      <td>30</td>\n",
       "      <td>38</td>\n",
       "    </tr>\n",
       "    <tr>\n",
       "      <th>3</th>\n",
       "      <td>29</td>\n",
       "      <td>30</td>\n",
       "      <td>41</td>\n",
       "    </tr>\n",
       "    <tr>\n",
       "      <th>4</th>\n",
       "      <td>28</td>\n",
       "      <td>33</td>\n",
       "      <td>42</td>\n",
       "    </tr>\n",
       "  </tbody>\n",
       "</table>\n",
       "</div>"
      ],
      "text/plain": [
       "   GRUP_A  GRUP_B  GRUP_C\n",
       "0      28      31      40\n",
       "1      33      32      33\n",
       "2      30      30      38\n",
       "3      29      30      41\n",
       "4      28      33      42"
      ]
     },
     "execution_count": 11,
     "metadata": {},
     "output_type": "execute_result"
    }
   ],
   "source": [
    "import pandas as pd\n",
    "\n",
    "A = pd.DataFrame ([28,33,30,29,28,29,27,31,30,32,28,33,25,29,27,31,31,30,31,34,30,32,31,32])\n",
    "B = pd.DataFrame ([31,32,30,30,33,32,34,27,36,30,31,30,38,29,30,34,34,31,35,35,33,30,28,32])\n",
    "C= pd.DataFrame ([40,33,38,41,42,43,38,35,39,39,36,34,35,40,38,36,39,36,33,35,38,35,40,32])\n",
    "dfs = [A, B, C]\n",
    "ABC = pd.concat(dfs, axis = 1) \n",
    "ABC.columns = [\"GRUP_A\", \"GRUP_B\", \"GRUP_C\"]\n",
    "ABC.head()"
   ]
  },
  {
   "cell_type": "markdown",
   "id": "307dd173-8748-42b4-8d47-621f6d6aae7d",
   "metadata": {},
   "source": [
    "### Varsayım Kontrolü"
   ]
  },
  {
   "cell_type": "markdown",
   "id": "165e5378-2859-4c74-9826-f4f80928be00",
   "metadata": {},
   "source": [
    "- #### Gruplar bağımsız olmalı (Evet,öyle)\n",
    "- #### Normal Dağılım (Shapiro) (p < 0.05)\n",
    "- #### Varyans Homojenliği (Levene) "
   ]
  },
  {
   "cell_type": "code",
   "execution_count": 19,
   "id": "4465114f-fa7d-4380-83df-deb4571b7f7d",
   "metadata": {},
   "outputs": [],
   "source": [
    "from scipy.stats import shapiro"
   ]
  },
  {
   "cell_type": "code",
   "execution_count": 21,
   "id": "7204b8e6-9f89-4fd5-b9f1-ddbf3033cbe0",
   "metadata": {},
   "outputs": [
    {
     "data": {
      "text/plain": [
       "ShapiroResult(statistic=0.9750465170224409, pvalue=0.790210461155114)"
      ]
     },
     "execution_count": 21,
     "metadata": {},
     "output_type": "execute_result"
    }
   ],
   "source": [
    "shapiro(ABC[\"GRUP_A\"])"
   ]
  },
  {
   "cell_type": "code",
   "execution_count": 23,
   "id": "86f01d59-e5c1-42aa-a68e-2cffcb59990f",
   "metadata": {},
   "outputs": [
    {
     "data": {
      "text/plain": [
       "ShapiroResult(statistic=0.9693928481265007, pvalue=0.6520101379271828)"
      ]
     },
     "execution_count": 23,
     "metadata": {},
     "output_type": "execute_result"
    }
   ],
   "source": [
    "shapiro(ABC[\"GRUP_B\"])"
   ]
  },
  {
   "cell_type": "code",
   "execution_count": 25,
   "id": "d67ecf0a-a2a9-4a91-9145-819d55b74025",
   "metadata": {},
   "outputs": [
    {
     "data": {
      "text/plain": [
       "ShapiroResult(statistic=0.9688307045079346, pvalue=0.6381972821609205)"
      ]
     },
     "execution_count": 25,
     "metadata": {},
     "output_type": "execute_result"
    }
   ],
   "source": [
    "shapiro(ABC[\"GRUP_C\"])"
   ]
  },
  {
   "cell_type": "code",
   "execution_count": 35,
   "id": "4d6045df-4f7b-408d-bb2a-c726b7b66b36",
   "metadata": {},
   "outputs": [],
   "source": [
    "from scipy import stats"
   ]
  },
  {
   "cell_type": "code",
   "execution_count": 37,
   "id": "38bbebd9-e30e-448c-93c5-8b0cc60c2ba2",
   "metadata": {},
   "outputs": [
    {
     "data": {
      "text/plain": [
       "LeveneResult(statistic=1.4211192707014442, pvalue=0.2484211653573513)"
      ]
     },
     "execution_count": 37,
     "metadata": {},
     "output_type": "execute_result"
    }
   ],
   "source": [
    "stats.levene(ABC[\"GRUP_A\"],ABC[\"GRUP_B\"],ABC[\"GRUP_C\"])"
   ]
  },
  {
   "cell_type": "markdown",
   "id": "b66031d5-b09d-4152-a0d3-94821c8da361",
   "metadata": {},
   "source": [
    "#### Bütün varyans kontrolleri sağlanmıştır. "
   ]
  },
  {
   "cell_type": "markdown",
   "id": "9e3bfd0f-3ee4-45db-adc6-2c6d50ab54aa",
   "metadata": {},
   "source": [
    "### Hipotez Testi"
   ]
  },
  {
   "cell_type": "code",
   "execution_count": 45,
   "id": "efa13ee1-0ee3-4029-a205-c2cc1b2a912f",
   "metadata": {},
   "outputs": [],
   "source": [
    "from scipy.stats import f_oneway"
   ]
  },
  {
   "cell_type": "code",
   "execution_count": 47,
   "id": "a1b5d9ad-afa6-4db2-939f-694d717712ba",
   "metadata": {},
   "outputs": [
    {
     "data": {
      "text/plain": [
       "F_onewayResult(statistic=49.800546689004484, pvalue=4.1078094472787075e-14)"
      ]
     },
     "execution_count": 47,
     "metadata": {},
     "output_type": "execute_result"
    }
   ],
   "source": [
    "f_oneway(ABC[\"GRUP_A\"],ABC[\"GRUP_B\"],ABC[\"GRUP_C\"])"
   ]
  },
  {
   "cell_type": "code",
   "execution_count": 55,
   "id": "6e5ffe5b-d087-4621-ab46-9104d5bd147f",
   "metadata": {},
   "outputs": [
    {
     "name": "stdout",
     "output_type": "stream",
     "text": [
      "0.00000\n"
     ]
    }
   ],
   "source": [
    "print(\"{:.5f}\".format(f_oneway(ABC[\"GRUP_A\"],ABC[\"GRUP_B\"],ABC[\"GRUP_C\"]) [1]))"
   ]
  },
  {
   "cell_type": "markdown",
   "id": "e0557270-791b-4022-860b-ef1ac01976a5",
   "metadata": {},
   "source": [
    "#### p-value değeri 0.000 hipotez h0 sağlanmaz. Gruplar arasında anlamlı bir farklılık vardır.\n"
   ]
  },
  {
   "cell_type": "code",
   "execution_count": 57,
   "id": "4762fefe-eceb-4445-bf81-b4ebe1a94b04",
   "metadata": {},
   "outputs": [
    {
     "data": {
      "text/html": [
       "<div>\n",
       "<style scoped>\n",
       "    .dataframe tbody tr th:only-of-type {\n",
       "        vertical-align: middle;\n",
       "    }\n",
       "\n",
       "    .dataframe tbody tr th {\n",
       "        vertical-align: top;\n",
       "    }\n",
       "\n",
       "    .dataframe thead th {\n",
       "        text-align: right;\n",
       "    }\n",
       "</style>\n",
       "<table border=\"1\" class=\"dataframe\">\n",
       "  <thead>\n",
       "    <tr style=\"text-align: right;\">\n",
       "      <th></th>\n",
       "      <th>count</th>\n",
       "      <th>mean</th>\n",
       "      <th>std</th>\n",
       "      <th>min</th>\n",
       "      <th>25%</th>\n",
       "      <th>50%</th>\n",
       "      <th>75%</th>\n",
       "      <th>max</th>\n",
       "    </tr>\n",
       "  </thead>\n",
       "  <tbody>\n",
       "    <tr>\n",
       "      <th>GRUP_A</th>\n",
       "      <td>24.0</td>\n",
       "      <td>30.041667</td>\n",
       "      <td>2.176538</td>\n",
       "      <td>25.0</td>\n",
       "      <td>28.75</td>\n",
       "      <td>30.0</td>\n",
       "      <td>31.25</td>\n",
       "      <td>34.0</td>\n",
       "    </tr>\n",
       "    <tr>\n",
       "      <th>GRUP_B</th>\n",
       "      <td>24.0</td>\n",
       "      <td>31.875000</td>\n",
       "      <td>2.642668</td>\n",
       "      <td>27.0</td>\n",
       "      <td>30.00</td>\n",
       "      <td>31.5</td>\n",
       "      <td>34.00</td>\n",
       "      <td>38.0</td>\n",
       "    </tr>\n",
       "    <tr>\n",
       "      <th>GRUP_C</th>\n",
       "      <td>24.0</td>\n",
       "      <td>37.291667</td>\n",
       "      <td>2.970568</td>\n",
       "      <td>32.0</td>\n",
       "      <td>35.00</td>\n",
       "      <td>38.0</td>\n",
       "      <td>39.25</td>\n",
       "      <td>43.0</td>\n",
       "    </tr>\n",
       "  </tbody>\n",
       "</table>\n",
       "</div>"
      ],
      "text/plain": [
       "        count       mean       std   min    25%   50%    75%   max\n",
       "GRUP_A   24.0  30.041667  2.176538  25.0  28.75  30.0  31.25  34.0\n",
       "GRUP_B   24.0  31.875000  2.642668  27.0  30.00  31.5  34.00  38.0\n",
       "GRUP_C   24.0  37.291667  2.970568  32.0  35.00  38.0  39.25  43.0"
      ]
     },
     "execution_count": 57,
     "metadata": {},
     "output_type": "execute_result"
    }
   ],
   "source": [
    "ABC.describe().T # grup C"
   ]
  },
  {
   "cell_type": "markdown",
   "id": "fe47cd13-3904-416a-8bc8-6da572f39a17",
   "metadata": {},
   "source": [
    "## Nonparametrik Hipotez Testi\n",
    "### (Varsayım kontrolleri sağlanmaz ilse kullan)"
   ]
  },
  {
   "cell_type": "code",
   "execution_count": 60,
   "id": "58a48ba4-afbd-421f-a815-edce3f5eb867",
   "metadata": {},
   "outputs": [],
   "source": [
    "from scipy.stats import kruskal"
   ]
  },
  {
   "cell_type": "code",
   "execution_count": 62,
   "id": "e312a982-a99d-40e8-884a-b748cd3cb8f4",
   "metadata": {},
   "outputs": [
    {
     "data": {
      "text/plain": [
       "KruskalResult(statistic=41.50114392847308, pvalue=9.730633146892484e-10)"
      ]
     },
     "execution_count": 62,
     "metadata": {},
     "output_type": "execute_result"
    }
   ],
   "source": [
    "kruskal(ABC[\"GRUP_A\"],ABC[\"GRUP_B\"],ABC[\"GRUP_C\"])"
   ]
  },
  {
   "cell_type": "markdown",
   "id": "2f0c7b26-8223-49b8-bc58-a58bcad31eae",
   "metadata": {},
   "source": [
    "### H0 reddedilir çünkü p-value değeri 0.05'ten küçüktür. "
   ]
  },
  {
   "cell_type": "code",
   "execution_count": null,
   "id": "88083fe0-3c26-4cdd-aaf0-233ed0c6ef27",
   "metadata": {},
   "outputs": [],
   "source": []
  }
 ],
 "metadata": {
  "kernelspec": {
   "display_name": "Python 3 (ipykernel)",
   "language": "python",
   "name": "python3"
  },
  "language_info": {
   "codemirror_mode": {
    "name": "ipython",
    "version": 3
   },
   "file_extension": ".py",
   "mimetype": "text/x-python",
   "name": "python",
   "nbconvert_exporter": "python",
   "pygments_lexer": "ipython3",
   "version": "3.11.7"
  }
 },
 "nbformat": 4,
 "nbformat_minor": 5
}
