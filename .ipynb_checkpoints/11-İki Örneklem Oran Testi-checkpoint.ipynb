{
 "cells": [
  {
   "cell_type": "code",
   "execution_count": 2,
   "id": "d9d1ddda-7421-4005-b8e2-9f5ff9a5969c",
   "metadata": {},
   "outputs": [],
   "source": [
    "from statsmodels.stats.proportion import proportions_ztest"
   ]
  },
  {
   "cell_type": "code",
   "execution_count": 4,
   "id": "dd1ed275-5fc6-4bec-9adb-d41979f14eac",
   "metadata": {},
   "outputs": [],
   "source": [
    "import numpy as np \n",
    "basari_sayisi = np.array([300,250])\n",
    "gozlem_sayisi = np.array([1000,1100])"
   ]
  },
  {
   "cell_type": "code",
   "execution_count": 6,
   "id": "f8f97a4e-cd5f-47fe-a40a-f3a663b5db6d",
   "metadata": {},
   "outputs": [
    {
     "data": {
      "text/plain": [
       "(3.7857863233209255, 0.00015322329577722207)"
      ]
     },
     "execution_count": 6,
     "metadata": {},
     "output_type": "execute_result"
    }
   ],
   "source": [
    "proportions_ztest(count = basari_sayisi, nobs = gozlem_sayisi)"
   ]
  },
  {
   "cell_type": "code",
   "execution_count": null,
   "id": "09f4ceb6-75b1-4eff-88c4-4e2db7dc4fb8",
   "metadata": {},
   "outputs": [],
   "source": []
  }
 ],
 "metadata": {
  "kernelspec": {
   "display_name": "Python 3 (ipykernel)",
   "language": "python",
   "name": "python3"
  },
  "language_info": {
   "codemirror_mode": {
    "name": "ipython",
    "version": 3
   },
   "file_extension": ".py",
   "mimetype": "text/x-python",
   "name": "python",
   "nbconvert_exporter": "python",
   "pygments_lexer": "ipython3",
   "version": "3.11.7"
  }
 },
 "nbformat": 4,
 "nbformat_minor": 5
}
