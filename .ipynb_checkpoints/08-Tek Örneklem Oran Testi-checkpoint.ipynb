{
 "cells": [
  {
   "cell_type": "markdown",
   "id": "34d731e0-c49e-41a6-b188-8bef6225cd18",
   "metadata": {},
   "source": [
    "# Tek Örneklem Oran Testi"
   ]
  },
  {
   "cell_type": "raw",
   "id": "2121e366-7b5f-4989-856f-03803f1b08d8",
   "metadata": {},
   "source": [
    "Soru için hipotezimiz:\n",
    "H0: p = 0.125\n",
    "H1: p != 0.125"
   ]
  },
  {
   "cell_type": "code",
   "execution_count": 4,
   "id": "95f43c1e-6d83-45cf-b560-b34c7dc0c591",
   "metadata": {},
   "outputs": [],
   "source": [
    "from statsmodels.stats.proportion import proportions_ztest"
   ]
  },
  {
   "cell_type": "code",
   "execution_count": 6,
   "id": "699ee472-1d5c-4307-bbb7-c77e74af0a04",
   "metadata": {},
   "outputs": [],
   "source": [
    "count = 40\n",
    "nobs = 500\n",
    "value = 0.125"
   ]
  },
  {
   "cell_type": "code",
   "execution_count": 8,
   "id": "2965b1d2-91b6-4cd7-9acd-5f0a86abb746",
   "metadata": {},
   "outputs": [
    {
     "data": {
      "text/plain": [
       "(-3.7090151628513017, 0.00020806696898459793)"
      ]
     },
     "execution_count": 8,
     "metadata": {},
     "output_type": "execute_result"
    }
   ],
   "source": [
    "proportions_ztest(count, nobs, value)"
   ]
  },
  {
   "cell_type": "markdown",
   "id": "31a1c7c2-446a-4d25-9c38-76a7ad2fde14",
   "metadata": {},
   "source": [
    "##### p-value:0.00020806696898459793 , Hipotez Reddedildi."
   ]
  },
  {
   "cell_type": "code",
   "execution_count": null,
   "id": "8637f932-a375-49e9-95d7-dba0c5ab56b8",
   "metadata": {},
   "outputs": [],
   "source": []
  }
 ],
 "metadata": {
  "kernelspec": {
   "display_name": "Python 3 (ipykernel)",
   "language": "python",
   "name": "python3"
  },
  "language_info": {
   "codemirror_mode": {
    "name": "ipython",
    "version": 3
   },
   "file_extension": ".py",
   "mimetype": "text/x-python",
   "name": "python",
   "nbconvert_exporter": "python",
   "pygments_lexer": "ipython3",
   "version": "3.11.7"
  }
 },
 "nbformat": 4,
 "nbformat_minor": 5
}
