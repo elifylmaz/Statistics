{
 "cells": [
  {
   "cell_type": "markdown",
   "id": "2a21263c-56e4-449b-a3ff-5522bbe2077d",
   "metadata": {},
   "source": [
    "# Nonparametrik Tek Örneklem Testi"
   ]
  },
  {
   "cell_type": "markdown",
   "id": "6641c44a-70ae-4d41-b9d7-126e66f37e91",
   "metadata": {},
   "source": [
    "- **Veri Normal Dağılıma Uymuyorsa**: Verinin normal dağılım varsayımını sağlamadığı durumlarda kullanılır. Parametrik T testleri normal dağılım varsayımına dayanır, bu nedenle bu varsayım geçerli değilse nonparametrik test tercih edilir.\n",
    "\n",
    "- **Küçük Örneklem Büyüklüğü**: Veri seti küçükse (genellikle n < 30), normallik varsayımının test edilmesi zor olabilir. Bu durumda nonparametrik testler daha güvenlidir.\n",
    "\n",
    "- **Ordinal veya Kesikli Veriler**: Nonparametrik testler, sıralı (ordinal) ya da sürekli olmayan (kesikli) veriler üzerinde de uygulanabilir."
   ]
  },
  {
   "cell_type": "code",
   "execution_count": 5,
   "id": "571661ad-14f8-4f18-a3d5-163fe307a85e",
   "metadata": {},
   "outputs": [],
   "source": [
    "from statsmodels.stats.descriptivestats import sign_test"
   ]
  },
  {
   "cell_type": "code",
   "execution_count": 9,
   "id": "6ee8271d-c132-4b33-b5f9-ee868f828729",
   "metadata": {},
   "outputs": [
    {
     "data": {
      "text/plain": [
       "array([ 17, 160, 234, 149, 145, 107, 197,  75, 201, 225])"
      ]
     },
     "execution_count": 9,
     "metadata": {},
     "output_type": "execute_result"
    }
   ],
   "source": [
    "import numpy as np\n",
    "olcumler = np.array([17, 160, 234, 149, 145, 107, 197, 75, 201, 225, 211, 119, 157, 145, 127, 244, 163, 114, 145, 65, 112, 185, 202, 146, 203, 224, 203, 114, 188, 156, 187, 154, 177, 95, 165, 50, 110, 216, 138, 151, 166, 135, 155, 84, 251, 173, 131, 207, 121, 120])\n",
    "olcumler[0:10]"
   ]
  },
  {
   "cell_type": "code",
   "execution_count": 11,
   "id": "797fa0cc-04a0-4833-bfff-b801a02776a7",
   "metadata": {},
   "outputs": [
    {
     "data": {
      "text/plain": [
       "(-7.0, 0.06490864707227217)"
      ]
     },
     "execution_count": 11,
     "metadata": {},
     "output_type": "execute_result"
    }
   ],
   "source": [
    "sign_test(olcumler,170)"
   ]
  },
  {
   "cell_type": "code",
   "execution_count": null,
   "id": "4f33df16-958a-4f11-9691-44785890ebcc",
   "metadata": {},
   "outputs": [],
   "source": []
  },
  {
   "cell_type": "code",
   "execution_count": null,
   "id": "6cc16589-593f-45c0-b011-a37cb50edcde",
   "metadata": {},
   "outputs": [],
   "source": []
  }
 ],
 "metadata": {
  "kernelspec": {
   "display_name": "Python 3 (ipykernel)",
   "language": "python",
   "name": "python3"
  },
  "language_info": {
   "codemirror_mode": {
    "name": "ipython",
    "version": 3
   },
   "file_extension": ".py",
   "mimetype": "text/x-python",
   "name": "python",
   "nbconvert_exporter": "python",
   "pygments_lexer": "ipython3",
   "version": "3.11.7"
  }
 },
 "nbformat": 4,
 "nbformat_minor": 5
}
