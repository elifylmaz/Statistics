{
 "cells": [
  {
   "cell_type": "markdown",
   "id": "2e211ab0-abe7-424f-aadf-24c124b332cc",
   "metadata": {},
   "source": [
    "### ■ Problem:\n",
    "Belirli uğraşlar sonucunda alınan bir eğitimin katma değer sağlayıp sağlamadığı ölçülmek isteniyor.\n",
    "### ■ Detaylar:\n",
    "- Bir departman bir konuda eğitim talep ediyor\n",
    "- Gerekli/gereksiz değerlendirmeleri neticesinde eğitim alınıyor\n",
    "- Eğitimden önce ve sonra olacak şekilde gerekli ölçümler yapılıyor\n",
    "- Eğitim sonrasında eğitimin sağladığı katma değer test edilmek isteniyor"
   ]
  },
  {
   "cell_type": "markdown",
   "id": "4bec686b-a39f-4f16-b291-86656c09fbbd",
   "metadata": {},
   "source": [
    "### Hipotez \n",
    "\n",
    "- $ H_0: \\mu_ö = \\mu_s $\n",
    "- $ H_1: \\mu_ö \\neq \\mu_s $"
   ]
  },
  {
   "cell_type": "code",
   "execution_count": 86,
   "id": "fb1ebb57-80ee-49c8-a5e0-d210fe76af9b",
   "metadata": {},
   "outputs": [],
   "source": [
    "import pandas as pd\n",
    "import numpy as np\n",
    "\n",
    "oncesi = pd. DataFrame ([123,119,119,116,123,123,121,120,117, 118, 121, 121, 121,123,119, 121,118,124,121,125, 115, 115, 119, 118, 121,117,117,120,120, 121,117, 118, 117, 123, 118, 124, 121,115,118,125,115])\n",
    "sonrasi = pd. DataFrame ([118,127,122,132,124,123,115,129,132,128,134,128,138,140,130,134,144,124,140,134,129,122,138,134,124,122,126,133,127,135,136,130,132,117,133,125,129,133,120,117,123])\n"
   ]
  },
  {
   "cell_type": "code",
   "execution_count": 88,
   "id": "adcd1eb3-9440-4cab-8936-f1c9986c53f4",
   "metadata": {},
   "outputs": [
    {
     "data": {
      "text/html": [
       "<div>\n",
       "<style scoped>\n",
       "    .dataframe tbody tr th:only-of-type {\n",
       "        vertical-align: middle;\n",
       "    }\n",
       "\n",
       "    .dataframe tbody tr th {\n",
       "        vertical-align: top;\n",
       "    }\n",
       "\n",
       "    .dataframe thead th {\n",
       "        text-align: right;\n",
       "    }\n",
       "</style>\n",
       "<table border=\"1\" class=\"dataframe\">\n",
       "  <thead>\n",
       "    <tr style=\"text-align: right;\">\n",
       "      <th></th>\n",
       "      <th>0</th>\n",
       "    </tr>\n",
       "  </thead>\n",
       "  <tbody>\n",
       "    <tr>\n",
       "      <th>0</th>\n",
       "      <td>123</td>\n",
       "    </tr>\n",
       "    <tr>\n",
       "      <th>1</th>\n",
       "      <td>119</td>\n",
       "    </tr>\n",
       "    <tr>\n",
       "      <th>2</th>\n",
       "      <td>119</td>\n",
       "    </tr>\n",
       "    <tr>\n",
       "      <th>3</th>\n",
       "      <td>116</td>\n",
       "    </tr>\n",
       "    <tr>\n",
       "      <th>4</th>\n",
       "      <td>123</td>\n",
       "    </tr>\n",
       "  </tbody>\n",
       "</table>\n",
       "</div>"
      ],
      "text/plain": [
       "     0\n",
       "0  123\n",
       "1  119\n",
       "2  119\n",
       "3  116\n",
       "4  123"
      ]
     },
     "execution_count": 88,
     "metadata": {},
     "output_type": "execute_result"
    }
   ],
   "source": [
    "oncesi [0:5]"
   ]
  },
  {
   "cell_type": "code",
   "execution_count": 90,
   "id": "330720bd-0eb9-421d-b241-c66aa485e24e",
   "metadata": {},
   "outputs": [
    {
     "data": {
      "text/html": [
       "<div>\n",
       "<style scoped>\n",
       "    .dataframe tbody tr th:only-of-type {\n",
       "        vertical-align: middle;\n",
       "    }\n",
       "\n",
       "    .dataframe tbody tr th {\n",
       "        vertical-align: top;\n",
       "    }\n",
       "\n",
       "    .dataframe thead th {\n",
       "        text-align: right;\n",
       "    }\n",
       "</style>\n",
       "<table border=\"1\" class=\"dataframe\">\n",
       "  <thead>\n",
       "    <tr style=\"text-align: right;\">\n",
       "      <th></th>\n",
       "      <th>0</th>\n",
       "    </tr>\n",
       "  </thead>\n",
       "  <tbody>\n",
       "    <tr>\n",
       "      <th>0</th>\n",
       "      <td>118</td>\n",
       "    </tr>\n",
       "    <tr>\n",
       "      <th>1</th>\n",
       "      <td>127</td>\n",
       "    </tr>\n",
       "    <tr>\n",
       "      <th>2</th>\n",
       "      <td>122</td>\n",
       "    </tr>\n",
       "    <tr>\n",
       "      <th>3</th>\n",
       "      <td>132</td>\n",
       "    </tr>\n",
       "    <tr>\n",
       "      <th>4</th>\n",
       "      <td>124</td>\n",
       "    </tr>\n",
       "  </tbody>\n",
       "</table>\n",
       "</div>"
      ],
      "text/plain": [
       "     0\n",
       "0  118\n",
       "1  127\n",
       "2  122\n",
       "3  132\n",
       "4  124"
      ]
     },
     "execution_count": 90,
     "metadata": {},
     "output_type": "execute_result"
    }
   ],
   "source": [
    "sonrasi[0:5]"
   ]
  },
  {
   "cell_type": "code",
   "execution_count": 92,
   "id": "85c39f73-645a-43ab-9c0f-cc3839603bb1",
   "metadata": {},
   "outputs": [
    {
     "name": "stdout",
     "output_type": "stream",
     "text": [
      "'AYRIK' Veri Seti: \n",
      "\n",
      "    ONCESI  SONRASI\n",
      "0     123      118\n",
      "1     119      127\n",
      "2     119      122\n",
      "3     116      132\n",
      "4     123      124 \n",
      "\n",
      "\n",
      "'BIRLIKTE' Veri Seti: \n",
      "\n",
      "    PERFORMANS ONCESI_SONRASI\n",
      "0         123         ONCESI\n",
      "1         119         ONCESI\n",
      "2         119         ONCESI\n",
      "3         116         ONCESI\n",
      "4         123         ONCESI \n",
      "\n"
     ]
    },
    {
     "name": "stderr",
     "output_type": "stream",
     "text": [
      "/var/folders/8v/8s2d06193hxccb1n1d4vwqhh0000gn/T/ipykernel_69743/3974743387.py:14: FutureWarning: Setting an item of incompatible dtype is deprecated and will raise in a future error of pandas. Value 'ONCESI' has dtype incompatible with int64, please explicitly cast to a compatible dtype first.\n",
      "  GRUP_ONCESI[:] = \"ONCESI\"\n",
      "/var/folders/8v/8s2d06193hxccb1n1d4vwqhh0000gn/T/ipykernel_69743/3974743387.py:22: FutureWarning: Setting an item of incompatible dtype is deprecated and will raise in a future error of pandas. Value 'SONRASI' has dtype incompatible with int64, please explicitly cast to a compatible dtype first.\n",
      "  GRUP_SONRASI[:] = \"SONRASI\"\n"
     ]
    }
   ],
   "source": [
    "# Bu işlem veriyi dışarıdan aktarırken sorun yaşarsan çözmek içindir.\n",
    "#BIRINCI VERI SETI\n",
    "\n",
    "AYRIK = pd.concat([oncesi, sonrasi], axis = 1)\n",
    "AYRIK.columns = [\"ONCESI\", \"SONRASI\"]\n",
    "print(\"'AYRIK' Veri Seti: \\n\\n\", AYRIK.head(), \"\\n\\n\")\n",
    "\n",
    "\n",
    "#IKINCI VERI SETI\n",
    "\n",
    "#ONCESI FLAG/TAG'INI OLUSTURMA\n",
    "GRUP_ONCESI = np.arange(len(oncesi))\n",
    "GRUP_ONCESI = pd. DataFrame (GRUP_ONCESI)\n",
    "GRUP_ONCESI[:] = \"ONCESI\"\n",
    "\n",
    "#FLAG VE ONCESI DEGERLERINI BIR ARAYA GETIRME\n",
    "A = pd.concat([oncesi, GRUP_ONCESI], axis = 1)\n",
    "\n",
    "#SONRASI FLAG/TAG'INI OLUSTURMA\n",
    "GRUP_SONRASI = np.arange(len(sonrasi))\n",
    "GRUP_SONRASI = pd. DataFrame (GRUP_SONRASI)\n",
    "GRUP_SONRASI[:] = \"SONRASI\"\n",
    "\n",
    "#FLAG VE SONRASI DEGERLERINI BIR ARAYA GETIRME \n",
    "B = pd.concat([sonrasi, GRUP_SONRASI], axis = 1)\n",
    "\n",
    "#TUM VERIYI BIR ARAYA GETIRME\n",
    "BIRLIKTE = pd.concat([A,B])\n",
    "\n",
    "#BIRLIKTE ISIMLENDIRME\n",
    "BIRLIKTE.columns = [\"PERFORMANS\",\"ONCESI_SONRASI\"]\n",
    "print(\"'BIRLIKTE' Veri Seti: \\n\\n\", BIRLIKTE.head(), \"\\n\")\n"
   ]
  },
  {
   "cell_type": "code",
   "execution_count": 94,
   "id": "df74199a-1d61-484b-9c4a-88862c2fb2e7",
   "metadata": {},
   "outputs": [
    {
     "data": {
      "text/plain": [
       "<Axes: xlabel='ONCESI_SONRASI', ylabel='PERFORMANS'>"
      ]
     },
     "execution_count": 94,
     "metadata": {},
     "output_type": "execute_result"
    },
    {
     "data": {
      "image/png": "[encoded data removed]",
      "text/plain": [
       "<Figure size 640x480 with 1 Axes>"
      ]
     },
     "metadata": {},
     "output_type": "display_data"
    }
   ],
   "source": [
    "import seaborn as sbn \n",
    "\n",
    "sbn.boxplot(x=\"ONCESI_SONRASI\", y = \"PERFORMANS\", data = BIRLIKTE)"
   ]
  },
  {
   "cell_type": "markdown",
   "id": "7c1a5d36-8115-4e00-a285-63a81f7e094d",
   "metadata": {},
   "source": [
    "### Varsayım Kontrolleri"
   ]
  },
  {
   "cell_type": "code",
   "execution_count": 97,
   "id": "e2972bba-a19e-4400-9390-8153b0952b3b",
   "metadata": {},
   "outputs": [],
   "source": [
    "from scipy.stats import shapiro"
   ]
  },
  {
   "cell_type": "code",
   "execution_count": 99,
   "id": "0eb43209-8df6-4e2e-a292-98b835c5c18f",
   "metadata": {},
   "outputs": [
    {
     "data": {
      "text/plain": [
       "ShapiroResult(statistic=0.9552979746605215, pvalue=0.10750911779999517)"
      ]
     },
     "execution_count": 99,
     "metadata": {},
     "output_type": "execute_result"
    }
   ],
   "source": [
    "shapiro(AYRIK.ONCESI)"
   ]
  },
  {
   "cell_type": "code",
   "execution_count": 101,
   "id": "b3063bfc-a544-44ed-b880-345420ba3dc8",
   "metadata": {},
   "outputs": [
    {
     "data": {
      "text/plain": [
       "ShapiroResult(statistic=0.984978998209128, pvalue=0.855101209570527)"
      ]
     },
     "execution_count": 101,
     "metadata": {},
     "output_type": "execute_result"
    }
   ],
   "source": [
    "shapiro(AYRIK.SONRASI)"
   ]
  },
  {
   "cell_type": "code",
   "execution_count": 103,
   "id": "97865273-d548-4501-abc0-f1455a1ed072",
   "metadata": {},
   "outputs": [
    {
     "data": {
      "text/plain": [
       "LeveneResult(statistic=24.2630820931349, pvalue=4.4462482045230715e-06)"
      ]
     },
     "execution_count": 103,
     "metadata": {},
     "output_type": "execute_result"
    }
   ],
   "source": [
    "stats.levene(AYRIK.ONCESI, AYRIK.SONRASI)"
   ]
  },
  {
   "cell_type": "markdown",
   "id": "90dc1ca9-a32f-4b2f-9137-75226f90a4c1",
   "metadata": {},
   "source": [
    "### 1. Varsayım sağlanıyor 2.Varsayım sağlanmadı. Göz ardı edip ilgili testimizi gerçekleştiricez."
   ]
  },
  {
   "cell_type": "markdown",
   "id": "56c18271-f1ff-4465-a454-4c0a24eadab9",
   "metadata": {},
   "source": [
    "## Hipotez Testi"
   ]
  },
  {
   "cell_type": "code",
   "execution_count": 106,
   "id": "c89b62ca-cf22-499e-96c9-7b916a4bee24",
   "metadata": {},
   "outputs": [
    {
     "data": {
      "text/plain": [
       "TtestResult(statistic=-7.399487625069415, pvalue=5.241045339803693e-09, df=40)"
      ]
     },
     "execution_count": 106,
     "metadata": {},
     "output_type": "execute_result"
    }
   ],
   "source": [
    "stats.ttest_rel(AYRIK.ONCESI, AYRIK.SONRASI)"
   ]
  },
  {
   "cell_type": "code",
   "execution_count": 108,
   "id": "57ae905d-ccc5-49e2-a804-2a91e2ac3158",
   "metadata": {},
   "outputs": [
    {
     "name": "stdout",
     "output_type": "stream",
     "text": [
      "Test İstatistiği = -7.3995, p-değeri= 0.0000\n"
     ]
    }
   ],
   "source": [
    "#okunurluğu arttırmak için\n",
    "test_istatistigi, pvalue = stats.ttest_rel(AYRIK.ONCESI, AYRIK.SONRASI)\n",
    "print('Test İstatistiği = %.4f, p-değeri= %.4f' % (test_istatistigi, pvalue))"
   ]
  },
  {
   "cell_type": "markdown",
   "id": "e2162b6f-b76f-46bc-94a8-e49e868d418c",
   "metadata": {},
   "source": [
    "#### Yorum : H0:Eğitim öncesi ve sonrası performans eşittir. \n",
    "#### Ancak p-value değeri <0.05 yani H0 hipotezi reddedilmiştir. Yani eğitim işe yaramıştır."
   ]
  },
  {
   "cell_type": "markdown",
   "id": "742b288a-f3c3-497b-919c-f326e9481cb6",
   "metadata": {},
   "source": [
    "# Nonparametrik Bağımlı İki Örneklem T Testi"
   ]
  },
  {
   "cell_type": "code",
   "execution_count": 113,
   "id": "9c4dfa00-6b47-48ec-9275-c81af55b2b85",
   "metadata": {},
   "outputs": [
    {
     "data": {
      "text/plain": [
       "WilcoxonResult(statistic=38.0, pvalue=8.90670797648481e-07)"
      ]
     },
     "execution_count": 113,
     "metadata": {},
     "output_type": "execute_result"
    }
   ],
   "source": [
    "stats.wilcoxon(AYRIK.ONCESI, AYRIK.SONRASI)"
   ]
  },
  {
   "cell_type": "code",
   "execution_count": 115,
   "id": "66948103-e7f4-4c1f-8b7e-cd955b56847e",
   "metadata": {},
   "outputs": [
    {
     "name": "stdout",
     "output_type": "stream",
     "text": [
      "Test İstatistiği = 38.0000, p-değeri= 0.0000\n"
     ]
    }
   ],
   "source": [
    "#okunurluğu arttırmak için\n",
    "test_istatistigi, pvalue = stats.wilcoxon(AYRIK.ONCESI, AYRIK.SONRASI)\n",
    "print('Test İstatistiği = %.4f, p-değeri= %.4f' % (test_istatistigi, pvalue))"
   ]
  },
  {
   "cell_type": "markdown",
   "id": "97e8649d-96e7-49a7-82c8-4eff1d03acd2",
   "metadata": {},
   "source": [
    "##### Ancak p-value değeri <0.05 yani H0 hipotezi reddedilmiştir. Yani eğitim işe yaramıştır."
   ]
  },
  {
   "cell_type": "code",
   "execution_count": null,
   "id": "86acf7ca-7f7e-41cb-9beb-04c6ee4e6982",
   "metadata": {},
   "outputs": [],
   "source": []
  }
 ],
 "metadata": {
  "kernelspec": {
   "display_name": "Python 3 (ipykernel)",
   "language": "python",
   "name": "python3"
  },
  "language_info": {
   "codemirror_mode": {
    "name": "ipython",
    "version": 3
   },
   "file_extension": ".py",
   "mimetype": "text/x-python",
   "name": "python",
   "nbconvert_exporter": "python",
   "pygments_lexer": "ipython3",
   "version": "3.11.7"
  }
 },
 "nbformat": 4,
 "nbformat_minor": 5
}
