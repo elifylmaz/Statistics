{
 "cells": [
  {
   "cell_type": "markdown",
   "id": "debc2904-abae-419e-b943-7d20bdf30778",
   "metadata": {},
   "source": [
    "# Olasılık Dağılımları"
   ]
  },
  {
   "cell_type": "markdown",
   "id": "268bae95-b208-4d9c-8923-24f8311da4e4",
   "metadata": {},
   "source": [
    "## Bernoulli Dağılımı\n",
    "\n",
    "Bernoulli dağılımı, tek bir bağımsız Bernoulli denemesinin sonucunu modelleyen bir dağılımdır. Yani, her bir deneme iki olasılıktan birini (başarı veya başarısızlık) içerir. Bernoulli dağılımının formülü şu şekildedir:\n",
    "\n",
    "### Olasılık Kütle Fonksiyonu (PMF)\n",
    "\n",
    "$$\n",
    "P(X = k) = p^k (1-p)^{1-k}, \\quad \\text{for} \\, k \\in \\{0, 1\\}\n",
    "$$\n",
    "\n",
    "Burada:\n",
    "- \\( X \\) başarı (1) veya başarısızlık (0) sonucunu temsil eder.\n",
    "- \\( p \\) başarı olasılığıdır.\n",
    "\n",
    "### Beklenen Değer (E[X])\n",
    "\n",
    "Bernoulli dağılımında beklenen değer (ortalama) şu şekilde hesaplanır:\n",
    "\n",
    "$$\n",
    "\\operatorname{E}(X) = p\n",
    "$$\n",
    "\n",
    "### Varyans (Var[X])\n",
    "\n",
    "Bernoulli dağılımının varyansı şu formülle hesaplanır:\n",
    "\n",
    "$$\n",
    "\\operatorname{Var}(X) = p \\cdot (1 - p) = p \\cdot q\n",
    "$$\n",
    "\n",
    "Burada:\n",
    "- \\( q = 1 - p \\), başarısızlık olasılığıdır.\n"
   ]
  },
  {
   "cell_type": "code",
   "execution_count": 40,
   "id": "13d06584-dae9-44c6-a466-ce6f211abd65",
   "metadata": {},
   "outputs": [],
   "source": [
    "from scipy.stats import bernoulli"
   ]
  },
  {
   "cell_type": "code",
   "execution_count": 42,
   "id": "1321b2fe-b04c-40bb-b89f-8c331f127d53",
   "metadata": {},
   "outputs": [],
   "source": [
    "p = 0.6"
   ]
  },
  {
   "cell_type": "code",
   "execution_count": 44,
   "id": "c9ba9b77-5646-4bb5-910a-b6c79d33824a",
   "metadata": {},
   "outputs": [
    {
     "data": {
      "text/plain": [
       "0.6"
      ]
     },
     "execution_count": 44,
     "metadata": {},
     "output_type": "execute_result"
    }
   ],
   "source": [
    "rv = bernoulli(p)\n",
    "rv.pmf(k = 1) #True olma olasılığı?"
   ]
  },
  {
   "cell_type": "code",
   "execution_count": 46,
   "id": "39173523-2577-4fe4-a9fd-0594ab5fd488",
   "metadata": {},
   "outputs": [
    {
     "data": {
      "text/plain": [
       "0.3999999999999999"
      ]
     },
     "execution_count": 46,
     "metadata": {},
     "output_type": "execute_result"
    }
   ],
   "source": [
    "rv = bernoulli(p)\n",
    "rv.pmf(k = 0) #False olma olasılığı?"
   ]
  },
  {
   "cell_type": "markdown",
   "id": "d0ad497d-1293-4658-92dc-57f10f53f74b",
   "metadata": {},
   "source": [
    "## Binom Dağılımı\n",
    "\n",
    "Bir binom dağılımı, \\( n \\) adet bağımsız Bernoulli denemesinin sonucunda \\( k \\) başarılı denemenin olasılığını belirler. Binom dağılımının formülü şu şekildedir:\n",
    "\n",
    "### Olasılık Kütle Fonksiyonu (PMF)\n",
    "\n",
    "$$\n",
    "P(X = k) = \\binom{n}{k} p^k (1-p)^{n-k}, \\quad \\text{for} \\, k \\in \\{0, 1, 2, \\dots, n\\}\n",
    "$$\n",
    "\n",
    "Burada:\n",
    "- \\( X \\) başarı sayısını temsil eder.\n",
    "- \\( p \\) her bir denemenin başarı olasılığıdır.\n",
    "- \\( \\binom{n}{k} \\), \\( n \\) denemede \\( k \\) başarılı sonuç elde etmenin kombinasyon sayısını temsil eder.\n",
    "\n",
    "### Beklenen Değer (E[X])\n",
    "\n",
    "Binom dağılımında beklenen değer (ortalama) şu şekilde hesaplanır:\n",
    "\n",
    "$$\n",
    "\\operatorname{E}(X) = n \\cdot p\n",
    "$$\n",
    "\n",
    "### Varyans (Var[X])\n",
    "\n",
    "Binom dağılımının varyansı şu formülle hesaplanır:\n",
    "\n",
    "$$\n",
    "\\operatorname{Var}(X) = n \\cdot p \\cdot (1 - p) = n \\cdot p \\cdot q\n",
    "$$\n",
    "\n",
    "Burada:\n",
    "- \\( q = 1 - p \\), başarısızlık olasılığıdır.\n"
   ]
  },
  {
   "cell_type": "code",
   "execution_count": 49,
   "id": "fc81013b-ffa9-479b-830c-b8a0f09d5f50",
   "metadata": {},
   "outputs": [],
   "source": [
    "from scipy.stats import binom"
   ]
  },
  {
   "cell_type": "code",
   "execution_count": 51,
   "id": "adcb9038-9534-4c32-9d3f-3e849be7060e",
   "metadata": {},
   "outputs": [
    {
     "name": "stdout",
     "output_type": "stream",
     "text": [
      "0.3697296376497269\n",
      "0.002897787123761479\n",
      "7.006035693977195e-08\n"
     ]
    }
   ],
   "source": [
    "p = 0.01\n",
    "n = 100\n",
    "rv = binom(n, p)\n",
    "print(rv.pmf(1))\n",
    "print(rv.pmf(5))\n",
    "print(rv.pmf(10))"
   ]
  },
  {
   "cell_type": "markdown",
   "id": "780f88ec-4032-458d-bf16-a4a6fbfe443f",
   "metadata": {},
   "source": [
    "## Poisson Dağılımı\n",
    "\n",
    "### Nadir olaylarda kullanılır.\n",
    "\n",
    "Poisson dağılımı, belirli bir zaman diliminde veya belirli bir alanda meydana gelen olayların sayısını modelleyen bir dağılımdır. Bu olayların belirli bir ortalama oranına göre gerçekleştiği varsayılır. Poisson dağılımının formülü şu şekildedir:\n",
    "\n",
    "### Olasılık Kütle Fonksiyonu (PMF)\n",
    "\n",
    "$$\n",
    "P(X = k) = \\frac{\\lambda^k e^{-\\lambda}}{k!}, \\quad \\text{for} \\, k \\in \\{0, 1, 2, \\dots\\}\n",
    "$$\n",
    "\n",
    "Burada:\n",
    "- \\( X \\) belirli bir zaman diliminde veya alanda meydana gelen olayların sayısını temsil eder.\n",
    "- \\( \\lambda \\) olayların ortalama sayısını (veya olayların ortalama oranını) ifade eder.\n",
    "- \\( e \\), doğal logaritmanın tabanıdır (yaklaşık 2.71828).\n",
    "\n",
    "### Beklenen Değer (E[X])\n",
    "\n",
    "Poisson dağılımında beklenen değer (ortalama) şu şekilde hesaplanır:\n",
    "\n",
    "$$\n",
    "\\operatorname{E}(X) = \\lambda\n",
    "$$\n",
    "\n",
    "### Varyans (Var[X])\n",
    "\n",
    "Poisson dağılımının varyansı şu formülle hesaplanır:\n",
    "\n",
    "$$\n",
    "\\operatorname{Var}(X) = \\lambda\n",
    "$$\n",
    "\n",
    "Burada:\n",
    "- Beklenen değer ve varyans Poisson dağılımında her ikisi de \\( \\lambda \\) ile eşittir.\n"
   ]
  },
  {
   "cell_type": "code",
   "execution_count": 58,
   "id": "c8d6a9c6-c60e-4a87-9f68-885408b747eb",
   "metadata": {},
   "outputs": [],
   "source": [
    "from scipy.stats import poisson"
   ]
  },
  {
   "cell_type": "code",
   "execution_count": 62,
   "id": "42386dea-05f6-477c-9b2c-f6ea918c6b9b",
   "metadata": {},
   "outputs": [],
   "source": [
    "lamda_degeri = 0.1"
   ]
  },
  {
   "cell_type": "code",
   "execution_count": 64,
   "id": "98a9d18e-54ab-4943-a99d-76d133d92cf7",
   "metadata": {},
   "outputs": [
    {
     "name": "stdout",
     "output_type": "stream",
     "text": [
      "0.9048374180359595\n"
     ]
    }
   ],
   "source": [
    "rv = poisson(mu = lamda_degeri)\n",
    "print(rv.pmf(k = 0 )) #olayın hiç olmama olasılığı"
   ]
  },
  {
   "cell_type": "code",
   "execution_count": 66,
   "id": "887c46ed-758e-4c90-a268-3ba23c7601fc",
   "metadata": {},
   "outputs": [
    {
     "name": "stdout",
     "output_type": "stream",
     "text": [
      "0.00015080623633932676\n"
     ]
    }
   ],
   "source": [
    "print(rv.pmf(k = 3 )) #olayın 3 kere olma olasılığı"
   ]
  },
  {
   "cell_type": "markdown",
   "id": "645f09a2-34f2-4e8f-a1a5-8ffb160efa2e",
   "metadata": {},
   "source": [
    "## Normal Dağılım\n",
    "\n",
    "Normal dağılım, sürekli bir rastgele değişkenin dağılımını modelleyen bir dağılımdır. Genellikle \"Gaussian dağılımı\" olarak da bilinir. Normal dağılım, simetrik ve çan şeklinde bir eğri ile tanımlanır. Normal dağılımın formülü şu şekildedir:\n",
    "\n",
    "### Olasılık Yoğunluk Fonksiyonu (PDF)\n",
    "\n",
    "$$\n",
    "f(x; \\mu, \\sigma^2) = \\frac{1}{\\sqrt{2 \\pi \\sigma^2}} \\exp\\left(-\\frac{(x - \\mu)^2}{2 \\sigma^2}\\right)\n",
    "$$\n",
    "\n",
    "Burada:\n",
    "- \\( x \\) rastgele değişkenin değeridir.\n",
    "- \\( \\mu \\) dağılımın ortalamasıdır (beklenen değer).\n",
    "- \\( \\sigma^2 \\) dağılımın varyansıdır.\n",
    "- \\( \\sigma \\) dağılımın standart sapmasıdır.\n",
    "- \\( \\exp \\) doğal üslü fonksiyonunu temsil eder (yaklaşık 2.71828).\n",
    "\n",
    "### Beklenen Değer (E[X])\n",
    "\n",
    "Normal dağılımında beklenen değer (ortalama) şu şekilde hesaplanır:\n",
    "\n",
    "$$\n",
    "\\operatorname{E}(X) = \\mu\n",
    "$$\n",
    "\n",
    "### Varyans (Var[X])\n",
    "\n",
    "Normal dağılımının varyansı şu formülle hesaplanır:\n",
    "\n",
    "$$\n",
    "\\operatorname{Var}(X) = \\sigma^2\n",
    "$$\n",
    "\n",
    "Burada:\n",
    "- \\( \\sigma^2 \\) dağılımın varyansını temsil eder.\n",
    "- \\( \\sigma \\) ise standart sapmayı ifade eder.\n",
    "\n",
    "Normal dağılım, birçok doğal ve sosyal fenomeni modellemek için yaygın olarak kullanılır ve merkezi limit teoremi ile de ilişkilidir.\n"
   ]
  },
  {
   "cell_type": "code",
   "execution_count": 69,
   "id": "f0993289-eb08-428a-bd0a-c59af7802676",
   "metadata": {},
   "outputs": [],
   "source": [
    "from scipy.stats import norm "
   ]
  },
  {
   "cell_type": "markdown",
   "id": "9136bc8a-b8fe-46c6-9c70-ff5f1e16a8e7",
   "metadata": {},
   "source": [
    "#### ort 80 , standart sapması 5 ise 90dan fazla satış yapılma olasılığı? "
   ]
  },
  {
   "cell_type": "code",
   "execution_count": 71,
   "id": "e73af5f2-9d95-450b-b8d4-43f12e6e42b1",
   "metadata": {},
   "outputs": [
    {
     "data": {
      "text/plain": [
       "0.02275013194817921"
      ]
     },
     "execution_count": 71,
     "metadata": {},
     "output_type": "execute_result"
    }
   ],
   "source": [
    "1-norm.cdf(90,80,5) #kümülatif dağılım fonksiyonunu (CDF) "
   ]
  },
  {
   "cell_type": "markdown",
   "id": "8fec9dda-22aa-4eef-838f-f2c8f36857e1",
   "metadata": {},
   "source": [
    "#### 73 den az olma olasılığı "
   ]
  },
  {
   "cell_type": "code",
   "execution_count": 77,
   "id": "74748e20-03f1-432d-8d12-11197a0aa5c2",
   "metadata": {},
   "outputs": [
    {
     "data": {
      "text/plain": [
       "0.08075665923377107"
      ]
     },
     "execution_count": 77,
     "metadata": {},
     "output_type": "execute_result"
    }
   ],
   "source": [
    "norm.cdf(73,80,5)"
   ]
  },
  {
   "cell_type": "markdown",
   "id": "7db85262-51ef-47b7-a92d-52ab49bef997",
   "metadata": {},
   "source": [
    "#### 70 den fazla olma olasılığı "
   ]
  },
  {
   "cell_type": "code",
   "execution_count": 80,
   "id": "cff99e88-ffa0-430d-96f3-dcc4e69857b1",
   "metadata": {},
   "outputs": [
    {
     "data": {
      "text/plain": [
       "0.9772498680518208"
      ]
     },
     "execution_count": 80,
     "metadata": {},
     "output_type": "execute_result"
    }
   ],
   "source": [
    "1-norm.cdf(70,80,5)"
   ]
  },
  {
   "cell_type": "markdown",
   "id": "8c40fc80-05ba-453b-8e1a-b86b8485978e",
   "metadata": {},
   "source": [
    "#### 85 ile 90 arasında olma olasılığı"
   ]
  },
  {
   "cell_type": "code",
   "execution_count": 83,
   "id": "7a4c6e40-0087-483f-948f-419790da253f",
   "metadata": {},
   "outputs": [
    {
     "data": {
      "text/plain": [
       "0.13590512198327787"
      ]
     },
     "execution_count": 83,
     "metadata": {},
     "output_type": "execute_result"
    }
   ],
   "source": [
    "norm.cdf(90,80,5) - norm.cdf(85,80,5)"
   ]
  },
  {
   "cell_type": "markdown",
   "id": "4f7738cf-0ff3-4644-82de-a7404e5db701",
   "metadata": {},
   "source": [
    "### norm.cdf(90, 80, 5): 90 veya daha küçük bir değeri elde etme olasılığını verir.\n",
    "### 1 - norm.cdf(90, 80, 5): 90'dan büyük bir değeri elde etme olasılığını verir."
   ]
  },
  {
   "cell_type": "markdown",
   "id": "1e0d8895-4524-4df8-8d8f-a20e0c29800d",
   "metadata": {},
   "source": [
    "## Üniform Dağılım\n",
    "\n",
    "Üniform dağılım, belirli bir aralık içinde tüm sonuçların eşit olasılıkla gerçekleştiği bir sürekli dağılımdır. Genellikle iki türü vardır: kesirli (discrete) ve sürekli (continuous). Bu açıklama sürekli üniform dağılımı kapsar.\n",
    "\n",
    "### Olasılık Yoğunluk Fonksiyonu (PDF)\n",
    "\n",
    "Sürekli üniform dağılımın olasılık yoğunluk fonksiyonu (PDF) şu şekilde tanımlanır:\n",
    "\n",
    "$$\n",
    "f(x; a, b) = \\begin{cases} \n",
    "\\frac{1}{b - a} & \\text{for} \\, a \\leq x \\leq b \\\\\n",
    "0 & \\text{otherwise}\n",
    "\\end{cases}\n",
    "$$\n",
    "\n",
    "Burada:\n",
    "- \\( a \\) ve \\( b \\) dağılımın alt ve üst sınırlarını temsil eder.\n",
    "- \\( x \\) rastgele değişkenin değeridir.\n",
    "- Olasılık yoğunluk fonksiyonu, \\( a \\) ve \\( b \\) arasındaki her \\( x \\) değeri için sabittir.\n",
    "\n",
    "### Beklenen Değer (E[X])\n",
    "\n",
    "Üniform dağılımında beklenen değer (ortalama) şu şekilde hesaplanır:\n",
    "\n",
    "$$\n",
    "\\operatorname{E}(X) = \\frac{a + b}{2}\n",
    "$$\n",
    "\n",
    "### Varyans (Var[X])\n",
    "\n",
    "Üniform dağılımının varyansı şu formülle hesaplanır:\n",
    "\n",
    "$$\n",
    "\\operatorname{Var}(X) = \\frac{(b - a)^2}{12}\n",
    "$$\n",
    "\n",
    "Burada:\n",
    "- \\( a \\) ve \\( b \\) dağılımın alt ve üst sınırlarını temsil eder.\n",
    "- \\( b - a \\) dağılımın genişliğini ifade eder.\n",
    "\n",
    "Üniform dağılım, genellikle eşit olasılıklı olayları modellemek için kullanılır ve birçok uygulama ve simülasyon problemlerinde temel bir dağılım olarak kabul edilir.\n"
   ]
  },
  {
   "cell_type": "markdown",
   "id": "8e48e820-f293-4da7-8591-8ea3ca4b4025",
   "metadata": {},
   "source": [
    "## Üstel Dağılım\n",
    "\n",
    "Üstel dağılım, sürekli bir rastgele değişkenin iki olay arasındaki süreyi veya zaman aralığını modelleyen bir dağılımdır. Genellikle bir olayın meydana gelme süresini veya aralığını modellemek için kullanılır. Üstel dağılımın formülü şu şekildedir:\n",
    "\n",
    "### Olasılık Yoğunluk Fonksiyonu (PDF)\n",
    "\n",
    "Üstel dağılımın olasılık yoğunluk fonksiyonu (PDF) şu şekilde tanımlanır:\n",
    "\n",
    "$$\n",
    "f(x; \\lambda) = \\lambda e^{-\\lambda x}, \\quad \\text{for} \\, x \\geq 0\n",
    "$$\n",
    "\n",
    "Burada:\n",
    "- \\( x \\) rastgele değişkenin değeridir.\n",
    "- \\( \\lambda \\) üstel dağılımın hız parametresidir (ortalama olay sıklığını temsil eder).\n",
    "- \\( e \\) doğal üslü fonksiyonunu temsil eder (yaklaşık 2.71828).\n",
    "\n",
    "### Beklenen Değer (E[X])\n",
    "\n",
    "Üstel dağılımında beklenen değer (ortalama) şu şekilde hesaplanır:\n",
    "\n",
    "$$\n",
    "\\operatorname{E}(X) = \\frac{1}{\\lambda}\n",
    "$$\n",
    "\n",
    "### Varyans (Var[X])\n",
    "\n",
    "Üstel dağılımının varyansı şu formülle hesaplanır:\n",
    "\n",
    "$$\n",
    "\\operatorname{Var}(X) = \\frac{1}{\\lambda^2}\n",
    "$$\n",
    "\n",
    "Burada:\n",
    "- \\( \\lambda \\) üstel dağılımın hız parametresidir.\n",
    "- Varyans, olayların meydana gelme süresinin ne kadar değişken olduğunu ölçer.\n",
    "\n",
    "Üstel dağılım, özellikle olayların zaman aralığını veya süresini modellemek için kullanılır ve Poisson süreçlerinin sürelerini modellemek için sıklıkla kullanılır.\n"
   ]
  },
  {
   "cell_type": "code",
   "execution_count": null,
   "id": "0c3c67a7-2b8b-45be-8a30-31d6902ba23d",
   "metadata": {},
   "outputs": [],
   "source": []
  }
 ],
 "metadata": {
  "kernelspec": {
   "display_name": "Python 3 (ipykernel)",
   "language": "python",
   "name": "python3"
  },
  "language_info": {
   "codemirror_mode": {
    "name": "ipython",
    "version": 3
   },
   "file_extension": ".py",
   "mimetype": "text/x-python",
   "name": "python",
   "nbconvert_exporter": "python",
   "pygments_lexer": "ipython3",
   "version": "3.11.7"
  }
 },
 "nbformat": 4,
 "nbformat_minor": 5
}
