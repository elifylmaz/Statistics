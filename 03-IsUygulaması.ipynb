{
 "cells": [
  {
   "cell_type": "code",
   "execution_count": 2,
   "id": "0016e058-d6f6-414a-9442-e9f14d1eb5fc",
   "metadata": {},
   "outputs": [],
   "source": [
    "import numpy as np\n",
    "fiyatlar = np.random.randint(0,110,1000)"
   ]
  },
  {
   "cell_type": "code",
   "execution_count": 4,
   "id": "3109305b-be6a-49bf-91a6-d42e0f278e9d",
   "metadata": {},
   "outputs": [
    {
     "data": {
      "text/plain": [
       "55.185"
      ]
     },
     "execution_count": 4,
     "metadata": {},
     "output_type": "execute_result"
    }
   ],
   "source": [
    "fiyatlar.mean()"
   ]
  },
  {
   "cell_type": "code",
   "execution_count": 6,
   "id": "e4947ed6-093c-4fac-8f14-1d34d8271a6d",
   "metadata": {},
   "outputs": [],
   "source": [
    "import statsmodels.stats.api as sms"
   ]
  },
  {
   "cell_type": "code",
   "execution_count": 8,
   "id": "2a3877ba-2088-4a1b-9bfd-808a10cdde9a",
   "metadata": {},
   "outputs": [
    {
     "data": {
      "text/plain": [
       "(53.19666343887464, 57.17333656112537)"
      ]
     },
     "execution_count": 8,
     "metadata": {},
     "output_type": "execute_result"
    }
   ],
   "source": [
    "sms.DescrStatsW(fiyatlar).tconfint_mean() #güven aralığı"
   ]
  },
  {
   "cell_type": "code",
   "execution_count": null,
   "id": "f4678cd2-f494-4193-adc1-de7837133d24",
   "metadata": {},
   "outputs": [],
   "source": []
  }
 ],
 "metadata": {
  "kernelspec": {
   "display_name": "Python 3 (ipykernel)",
   "language": "python",
   "name": "python3"
  },
  "language_info": {
   "codemirror_mode": {
    "name": "ipython",
    "version": 3
   },
   "file_extension": ".py",
   "mimetype": "text/x-python",
   "name": "python",
   "nbconvert_exporter": "python",
   "pygments_lexer": "ipython3",
   "version": "3.11.7"
  }
 },
 "nbformat": 4,
 "nbformat_minor": 5
}
